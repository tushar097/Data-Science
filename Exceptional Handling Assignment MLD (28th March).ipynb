{
 "cells": [
  {
   "cell_type": "code",
   "execution_count": 45,
   "metadata": {},
   "outputs": [
    {
     "name": "stdout",
     "output_type": "stream",
     "text": [
      "Division by zero error\n",
      "code executed\n"
     ]
    }
   ],
   "source": [
    "#1.)\n",
    "def exception():\n",
    "    try:\n",
    "        f=5\n",
    "        c=0\n",
    "        f/c\n",
    "    except:\n",
    "        print(\"Division by zero error\")\n",
    "    else:\n",
    "        print(\"try executed\")\n",
    "    finally:\n",
    "        print(\"code executed\")\n",
    "        \n",
    "exception()\n",
    "        \n",
    "\n",
    "    "
   ]
  },
  {
   "cell_type": "code",
   "execution_count": 41,
   "metadata": {},
   "outputs": [
    {
     "name": "stdout",
     "output_type": "stream",
     "text": [
      "Americans play Baseball.\n",
      "Americans play Cricket.\n",
      "Americans watch Baseball.\n",
      "Americans watch Cricket.\n",
      "Indians play Baseball.\n",
      "Indians play Cricket.\n",
      "Indians watch Baseball.\n",
      "Indians watch Cricket.\n"
     ]
    }
   ],
   "source": [
    "#2.)\n",
    "subjects=[\"Americans \" , \"Indians \"]\n",
    "verbs=[\"play \" , \"watch \"]\n",
    "objects=[\"Baseball.\", \"Cricket.\"]\n",
    "\n",
    "for i in range(len(subjects)):\n",
    "    for j in range(len(verbs)):\n",
    "        for k in range(len(objects)):\n",
    "            print((subjects[i]) + (verbs[j])+ (objects[k]))"
   ]
  }
 ],
 "metadata": {
  "kernelspec": {
   "display_name": "Python 3",
   "language": "python",
   "name": "python3"
  },
  "language_info": {
   "codemirror_mode": {
    "name": "ipython",
    "version": 3
   },
   "file_extension": ".py",
   "mimetype": "text/x-python",
   "name": "python",
   "nbconvert_exporter": "python",
   "pygments_lexer": "ipython3",
   "version": "3.7.6"
  }
 },
 "nbformat": 4,
 "nbformat_minor": 4
}
