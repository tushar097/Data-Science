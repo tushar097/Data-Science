{
 "cells": [
  {
   "cell_type": "code",
   "execution_count": 6,
   "metadata": {},
   "outputs": [
    {
     "name": "stdout",
     "output_type": "stream",
     "text": [
      "[2002, 2009, 2016, 2023, 2037, 2044, 2051, 2058, 2072, 2079, 2086, 2093, 2107, 2114, 2121, 2128, 2142, 2149, 2156, 2163, 2177, 2184, 2191, 2198, 2212, 2219, 2226, 2233, 2247, 2254, 2261, 2268, 2282, 2289, 2296, 2303, 2317, 2324, 2331, 2338, 2352, 2359, 2366, 2373, 2387, 2394, 2401, 2408, 2422, 2429, 2436, 2443, 2457, 2464, 2471, 2478, 2492, 2499, 2506, 2513, 2527, 2534, 2541, 2548, 2562, 2569, 2576, 2583, 2597, 2604, 2611, 2618, 2632, 2639, 2646, 2653, 2667, 2674, 2681, 2688, 2702, 2709, 2716, 2723, 2737, 2744, 2751, 2758, 2772, 2779, 2786, 2793, 2807, 2814, 2821, 2828, 2842, 2849, 2856, 2863, 2877, 2884, 2891, 2898, 2912, 2919, 2926, 2933, 2947, 2954, 2961, 2968, 2982, 2989, 2996, 3003, 3017, 3024, 3031, 3038, 3052, 3059, 3066, 3073, 3087, 3094, 3101, 3108, 3122, 3129, 3136, 3143, 3157, 3164, 3171, 3178, 3192, 3199]\n"
     ]
    }
   ],
   "source": [
    "#1.)\n",
    "l=[]\n",
    "for i in range(2000,3201):\n",
    "    if(i%7==0 and i%5!=0):\n",
    "        l.append(i)\n",
    "print(l)"
   ]
  },
  {
   "cell_type": "code",
   "execution_count": 17,
   "metadata": {},
   "outputs": [
    {
     "name": "stdout",
     "output_type": "stream",
     "text": [
      "enter the first name :tushar\n",
      "enter the last name :gupta\n",
      "gupta tushar\n",
      "rahsut atpug\n",
      "atpug rahsut\n"
     ]
    }
   ],
   "source": [
    "#2.)\n",
    "f=input(\"enter the first name :\")\n",
    "l=input(\"enter the last name :\")\n",
    "#Case1.) Displaying last name then first name.\n",
    "print(l,f)\n",
    "\n",
    "f=f[::-1]\n",
    "l=l[::-1]\n",
    "#Case2.) Displaying first name and then last name but each character has been reversed.\n",
    "print(f,l)\n",
    "\n",
    "#Case3.) Displaying last name and then first name but each character in reverse order.\n",
    "print(l,f)\n",
    "\n",
    "#Note: Printed all the 3 cases bcoz in question statement i was unable to understand which format needed.\n"
   ]
  },
  {
   "cell_type": "code",
   "execution_count": 10,
   "metadata": {},
   "outputs": [
    {
     "name": "stdout",
     "output_type": "stream",
     "text": [
      "enter the radius :10\n",
      "4186.666666666667\n"
     ]
    }
   ],
   "source": [
    "#3.)\n",
    "R=int(input(\"enter the radius :\"))\n",
    "pi=3.14\n",
    "V=4/3*pi*R**3\n",
    "print(V)"
   ]
  },
  {
   "cell_type": "code",
   "execution_count": 40,
   "metadata": {},
   "outputs": [
    {
     "name": "stdout",
     "output_type": "stream",
     "text": [
      "*\n",
      "**\n",
      "***\n",
      "****\n",
      "*****\n",
      "****\n",
      "***\n",
      "**\n",
      "*\n"
     ]
    }
   ],
   "source": [
    "#4.)\n",
    "for i in range(1,10):\n",
    "    if(i<6):\n",
    "        print(\"*\"*i)\n",
    "    else:\n",
    "        c=abs(i-10)\n",
    "        print(\"*\"*c)\n",
    "    "
   ]
  },
  {
   "cell_type": "code",
   "execution_count": 1,
   "metadata": {},
   "outputs": [
    {
     "name": "stdout",
     "output_type": "stream",
     "text": [
      "WE, THE PEOPLE OF INDIA, \n",
      "      having solemnly resolved to constitute India into a SOVEREIGN ! \n",
      "\t    SOCIALIST, SECULAR, DEMOCRATIC REPUBLIC \n",
      "\t     and to secure to all its citizens\n"
     ]
    }
   ],
   "source": [
    "#5.)\n",
    "str1 = str('WE, THE PEOPLE OF INDIA,')\n",
    "str2 = str('having solemnly resolved to constitute India into a SOVEREIGN')\n",
    "str3 = str('SOCIALIST, SECULAR, DEMOCRATIC REPUBLIC')\n",
    "str4 = str('and to secure to all its citizens')\n",
    "\n",
    "print(str1,\"\\n\",\" \"*4,str2,\"!\",\"\\n\\t\", \" \"*2,str3,\"\\n\\t\", \" \"*3,str4)"
   ]
  }
 ],
 "metadata": {
  "kernelspec": {
   "display_name": "Python 3",
   "language": "python",
   "name": "python3"
  },
  "language_info": {
   "codemirror_mode": {
    "name": "ipython",
    "version": 3
   },
   "file_extension": ".py",
   "mimetype": "text/x-python",
   "name": "python",
   "nbconvert_exporter": "python",
   "pygments_lexer": "ipython3",
   "version": "3.7.6"
  }
 },
 "nbformat": 4,
 "nbformat_minor": 2
}
