{
 "cells": [
  {
   "cell_type": "code",
   "execution_count": 75,
   "metadata": {},
   "outputs": [
    {
     "data": {
      "text/plain": [
       "9.807522622966516"
      ]
     },
     "execution_count": 75,
     "metadata": {},
     "output_type": "execute_result"
    }
   ],
   "source": [
    "#1.1\n",
    "class length:\n",
    "    def __init__(self,a,b,c):\n",
    "        self.a=a\n",
    "        self.b=b\n",
    "        self.c=c\n",
    "    \n",
    "class triangle(length):\n",
    "    def __init__(self,*args):\n",
    "        super(triangle,self).__init__(*args)\n",
    "    def Area(self):\n",
    "        s=(self.a+self.b+self.c)/2\n",
    "        area1=(s*((s-self.a)*(s-self.b)*(s-self.c)))**0.5\n",
    "        return area1\n",
    "        \n",
    "\n",
    "        \n",
    "t1=triangle(5,5,9)\n",
    "t1.Area()\n"
   ]
  },
  {
   "cell_type": "code",
   "execution_count": 38,
   "metadata": {},
   "outputs": [
    {
     "name": "stdout",
     "output_type": "stream",
     "text": [
      "['ahmedabad', 'gujrat', 'Mumbai', 'America', 'Ineuron']\n"
     ]
    }
   ],
   "source": [
    "#1.2\n",
    "def filter_long_words():\n",
    "    a=[\"hello\",\"IND\",\"Gate\",\"ahmedabad\",\"gujrat\",\"Mumbai\",\"America\",\"India\",\"Ineuron\",5]\n",
    "    b=list()\n",
    "    for i in a:\n",
    "        if(type(i)==str):\n",
    "            c=len(i)\n",
    "            if(c>a[9]):\n",
    "                b.append(i)\n",
    "    print(b)\n",
    "\n",
    "filter_long_words()"
   ]
  },
  {
   "cell_type": "code",
   "execution_count": 36,
   "metadata": {},
   "outputs": [
    {
     "name": "stdout",
     "output_type": "stream",
     "text": [
      "length of the words : [5, 4, 6]\n",
      "list of words : ['edndf', 'sdsd', 'sdsdsa']\n"
     ]
    }
   ],
   "source": [
    "#2.1\n",
    "def mapp():\n",
    "    c=[]\n",
    "    b=[]\n",
    "    z=[\"edndf\",'sdsd','sdsdsa']\n",
    "    for i in z:\n",
    "        c.append(len(i))\n",
    "        b.append(i)\n",
    "    print(\"length of the words :\",c)\n",
    "    print(\"list of words :\",b)\n",
    "        \n",
    "        \n",
    "mapp()"
   ]
  },
  {
   "cell_type": "code",
   "execution_count": 1,
   "metadata": {},
   "outputs": [
    {
     "name": "stdout",
     "output_type": "stream",
     "text": [
      "enter the character :a\n",
      "True\n"
     ]
    }
   ],
   "source": [
    "#2.2\n",
    "def vowels():\n",
    "    n=input(\"enter the character :\")\n",
    "    if n in ('a','e','i','o','u'):\n",
    "        print (True)\n",
    "    else:\n",
    "        print (False)\n",
    "        \n",
    "vowels()"
   ]
  }
 ],
 "metadata": {
  "kernelspec": {
   "display_name": "Python 3",
   "language": "python",
   "name": "python3"
  },
  "language_info": {
   "codemirror_mode": {
    "name": "ipython",
    "version": 3
   },
   "file_extension": ".py",
   "mimetype": "text/x-python",
   "name": "python",
   "nbconvert_exporter": "python",
   "pygments_lexer": "ipython3",
   "version": "3.7.6"
  }
 },
 "nbformat": 4,
 "nbformat_minor": 2
}
