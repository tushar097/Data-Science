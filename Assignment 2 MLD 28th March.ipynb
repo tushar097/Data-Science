{
 "cells": [
  {
   "cell_type": "code",
   "execution_count": 1,
   "metadata": {},
   "outputs": [
    {
     "name": "stdout",
     "output_type": "stream",
     "text": [
      "*\n",
      "**\n",
      "***\n",
      "****\n",
      "*****\n",
      "****\n",
      "***\n",
      "**\n",
      "*\n"
     ]
    }
   ],
   "source": [
    "#1.)\n",
    "for i in range(1,10):\n",
    "    if(i<6):\n",
    "        print(\"*\"*i)\n",
    "    else:\n",
    "        c=abs(i-10)\n",
    "        print(\"*\"*c)"
   ]
  },
  {
   "cell_type": "code",
   "execution_count": 2,
   "metadata": {},
   "outputs": [
    {
     "name": "stdout",
     "output_type": "stream",
     "text": [
      "WE, THE PEOPLE OF INDIA, \n",
      "      having solemnly resolved to constitute India into a SOVEREIGN ! \n",
      "\t    SOCIALIST, SECULAR, DEMOCRATIC REPUBLIC \n",
      "\t     and to secure to all its citizens\n"
     ]
    }
   ],
   "source": [
    "#2.)\n",
    "str1 = str('WE, THE PEOPLE OF INDIA,')\n",
    "str2 = str('having solemnly resolved to constitute India into a SOVEREIGN')\n",
    "str3 = str('SOCIALIST, SECULAR, DEMOCRATIC REPUBLIC')\n",
    "str4 = str('and to secure to all its citizens')\n",
    "\n",
    "print(str1,\"\\n\",\" \"*4,str2,\"!\",\"\\n\\t\", \" \"*2,str3,\"\\n\\t\", \" \"*3,str4)"
   ]
  }
 ],
 "metadata": {
  "kernelspec": {
   "display_name": "Python 3",
   "language": "python",
   "name": "python3"
  },
  "language_info": {
   "codemirror_mode": {
    "name": "ipython",
    "version": 3
   },
   "file_extension": ".py",
   "mimetype": "text/x-python",
   "name": "python",
   "nbconvert_exporter": "python",
   "pygments_lexer": "ipython3",
   "version": "3.7.6"
  }
 },
 "nbformat": 4,
 "nbformat_minor": 4
}
